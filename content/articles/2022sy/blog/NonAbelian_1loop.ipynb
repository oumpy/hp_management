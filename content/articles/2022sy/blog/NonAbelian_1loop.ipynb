{
 "cells": [
  {
   "cell_type": "markdown",
   "id": "6b1bb459",
   "metadata": {},
   "source": [
    "# Non-Abelian 1-loop"
   ]
  },
  {
   "cell_type": "markdown",
   "id": "af657905",
   "metadata": {},
   "source": [
    "非可換ゲージ理論の頂点計算をする．添字は全て下に付ける仕様．"
   ]
  },
  {
   "cell_type": "code",
   "execution_count": 22,
   "id": "a29859c6",
   "metadata": {},
   "outputs": [],
   "source": [
    "import sympy"
   ]
  },
  {
   "cell_type": "markdown",
   "id": "c5a994ee",
   "metadata": {},
   "source": [
    "縮約を計算する．入力は` [coeff, momentum or metric, ...]`のリスト"
   ]
  },
  {
   "cell_type": "code",
   "execution_count": 23,
   "id": "ad0514d8",
   "metadata": {},
   "outputs": [],
   "source": [
    "def calculate_contract(input):\n",
    "    # input: [coeff, momentum or metric, ...]\n",
    "    coeff = input.pop(0)\n",
    "\n",
    "    # get metrics and momentums from input\n",
    "    metrics = []\n",
    "    momentums = []\n",
    "    for i in input:\n",
    "        if i[0:1] == 'g':\n",
    "            str = i[4:-1]\n",
    "            first_index_abr = str.split('\\\\')[0][0]\n",
    "            second_index_abr = str.split('\\\\')[1][0]\n",
    "            metrics.append('g_' + first_index_abr + second_index_abr)\n",
    "        else:\n",
    "            momentums.append(i[0:2] + i[3])\n",
    "    input_abr = [coeff] + metrics + momentums\n",
    "\n",
    "    # define dict of metrics {'original_key': [current index, current index], ...}\n",
    "    metrics_dict = {}\n",
    "    for i in metrics:\n",
    "        metrics_dict[i] = [i.split('_')[1][0], i.split('_')[1][1]]\n",
    "\n",
    "    # define dict of momentums {'original_key': [label, current index], ...}\n",
    "    momentums_dict = {}\n",
    "    for i in momentums:\n",
    "        momentums_dict[i] = i.split('_')\n",
    "\n",
    "    # get indices of metrics\n",
    "    metrics_indices = []\n",
    "    for i in range(len(metrics)):\n",
    "        metrics_indices.append(metrics[i].split('_')[1][0])\n",
    "        metrics_indices.append(metrics[i].split('_')[1][1])\n",
    "\n",
    "    # get indices of momentums\n",
    "    momentums_indices = []\n",
    "    for i in range(len(momentums)):\n",
    "        momentums_indices.append(momentums[i].split('_')[1])\n",
    "\n",
    "    # find true and dummy indices\n",
    "    all_indices = metrics_indices + momentums_indices\n",
    "    summing_indices = []\n",
    "    tensor_indices = []\n",
    "    for i in all_indices:\n",
    "        if all_indices.count(i) == 2:\n",
    "            summing_indices.append(i)\n",
    "        elif all_indices.count(i) >= 2:\n",
    "            print(i, 'too many !')\n",
    "        else:\n",
    "            tensor_indices.append(i)\n",
    "    summing_indices = list(set(summing_indices))\n",
    "\n",
    "    # sum over dummy indices\n",
    "    for i in summing_indices:\n",
    "        if metrics_indices.count(i) == 1:\n",
    "            # vector and metric\n",
    "            metric_at = int(metrics_indices.index(i) / 2)\n",
    "            momentum_at = momentums_indices.index(i)\n",
    "            contracting_metric = metrics[metric_at]\n",
    "            contracting_momentum = momentums[momentum_at]\n",
    "            another_index = metrics_dict[contracting_metric]\n",
    "            another_index.remove(i)\n",
    "            metrics_dict[contracting_metric] = []\n",
    "            metrics_indices[2*metric_at] = ''\n",
    "            metrics_indices[2*metric_at + 1] = ''\n",
    "            momentums_dict[contracting_momentum] = [contracting_momentum[0], another_index[0]]\n",
    "            momentums_indices[momentum_at] = another_index[0]\n",
    "            # print(str('\\u03A3' + i + ':'), contracting_metric, contracting_momentum, '->', str(contracting_momentum[0]+ '_'+ another_index[0]))\n",
    "        elif metrics_indices.count(i) == 2:\n",
    "            # metric and metric\n",
    "            metrics_loc = [j for j, x in enumerate(metrics_indices) if x == i]\n",
    "            first_metric_at = int(metrics_loc[0] / 2)\n",
    "            second_metric_at = int(metrics_loc[1] / 2)\n",
    "            first_contracting_metric = metrics[first_metric_at]\n",
    "            second_contracting_metric = metrics[second_metric_at]\n",
    "            if first_metric_at == second_metric_at: # g_ss = 4\n",
    "                metrics_dict[first_contracting_metric] = [4]\n",
    "                # print(str('\\u03A3' + i + ':'), metrics[first_metric_at], '-> 4')\n",
    "                metrics_indices[2*first_metric_at] = ''\n",
    "                metrics_indices[2*first_metric_at + 1] = ''\n",
    "            else:\n",
    "                first_another_index = metrics_dict[first_contracting_metric]\n",
    "                first_another_index.remove(i)\n",
    "                second_another_index = metrics_dict[second_contracting_metric]\n",
    "                second_another_index.remove(i)\n",
    "                metrics_dict[first_contracting_metric] = [first_another_index[0], second_another_index[0]]\n",
    "                metrics_indices[2*first_metric_at] = first_another_index[0]\n",
    "                metrics_indices[2*first_metric_at + 1] = second_another_index[0]\n",
    "                metrics_dict[second_contracting_metric] = []\n",
    "                metrics_indices[2*second_metric_at] = ''\n",
    "                metrics_indices[2*second_metric_at + 1] = ''\n",
    "                # print(str('\\u03A3' + i + ':'), metrics[first_metric_at], metrics[second_metric_at], '->', str('g_' + first_another_index[0] + second_another_index[0]))\n",
    "        else:\n",
    "            # vector and vector\n",
    "            momentums_loc = [j for j, x in enumerate(momentums_indices) if x == i]\n",
    "            first_momentum_at = momentums_loc[0]\n",
    "            second_momentum_at = momentums_loc[1]\n",
    "            first_contracting_momentum = momentums[first_momentum_at]\n",
    "            second_contracting_momentum = momentums[second_momentum_at]\n",
    "            momentums_dict[first_contracting_momentum] = [momentums_dict[first_contracting_momentum][0] + momentums_dict[second_contracting_momentum][0], '']\n",
    "            momentums_dict[second_contracting_momentum] = []\n",
    "\n",
    "    # concatenate dictinoaries\n",
    "    output = [coeff]\n",
    "    for i in metrics_dict.values():\n",
    "        if i == [4]:\n",
    "            output.append('4')\n",
    "        elif i != []:\n",
    "            output.append('g_' + i[0] + i[1])\n",
    "    for i in momentums_dict.values():\n",
    "        if i != []:\n",
    "            if i[1] == '':\n",
    "                output.append(i[0])\n",
    "            else:\n",
    "                output.append(i[0] + '_' + i[1])\n",
    "\n",
    "    # print(' '.join(input_abr) , '=', ' '.join(output))\n",
    "    return output"
   ]
  },
  {
   "cell_type": "markdown",
   "id": "3675d25e",
   "metadata": {},
   "source": [
    "運動量文字とLorentz添字から4運動量の成分を返す：\n",
    "\\\\[ k, \\mu \\to k_\\mu . \\\\]"
   ]
  },
  {
   "cell_type": "code",
   "execution_count": 24,
   "id": "18840121",
   "metadata": {},
   "outputs": [],
   "source": [
    "def mo(momentum, index_abr):\n",
    "    if momentum != 0:\n",
    "        terms = list(sympy.Add.make_args(momentum))\n",
    "        momentum_indexed = 0\n",
    "        for i in range(len(terms)):\n",
    "            term_indexed = str(terms[i]) + '_' + index_abr\n",
    "            term_indexed = sympy.sympify(term_indexed, globals())\n",
    "            momentum_indexed += term_indexed\n",
    "        return momentum_indexed\n",
    "    else:\n",
    "        return 0"
   ]
  },
  {
   "cell_type": "markdown",
   "id": "8a8c0437",
   "metadata": {},
   "source": [
    "運動量文字とLorentz添字から3-boson頂点を返す：\n",
    "\\\\[ \\mu, \\nu, \\rho, k, p, q \\to  g_{\\mu\\nu} (k-p)_\\rho + g_{\\nu\\rho} (p-q)_\\mu + g_{\\rho\\mu} (q-k)_\\nu . \\\\]"
   ]
  },
  {
   "cell_type": "code",
   "execution_count": 25,
   "id": "9ee02e50",
   "metadata": {},
   "outputs": [],
   "source": [
    "def three_vertex(m, n, r, k, p, q):\n",
    "    if k+p+q != 0:\n",
    "        print('momentum not conserved!')\n",
    "    T1 = sympy.sympify('g_' + m + n, globals()) * (mo(k - p, r))\n",
    "    T2 = sympy.sympify('g_' + n + r, globals()) * (mo(p - q, m))\n",
    "    T3 = sympy.sympify('g_' + r + m, globals()) * (mo(q - k, n))\n",
    "    T = T1 + T2 + T3\n",
    "    return T"
   ]
  },
  {
   "cell_type": "markdown",
   "id": "3d0cbb2f",
   "metadata": {},
   "source": [
    "ゲージ群添字とLorentz添字から4-bosonを返す：\n",
    "\\\\[ a, b, c, d, \\mu, \\nu, \\rho, \\sigma  \\to f^{abe} f^{cde} (g_{\\mu\\rho} g_{\\nu\\sigma} - g_{\\mu\\sigma} g_{\\nu\\rho}) +  f^{ace} f^{bde} (g_{\\mu\\nu} g_{\\rho\\sigma} - g_{\\mu\\sigma} g_{\\nu\\rho})  +  f^{ade} f^{bce} (g_{\\mu\\nu} g_{\\rho\\sigma} - g_{\\mu\\rho} g_{\\nu\\sigma}) . \\\\]"
   ]
  },
  {
   "cell_type": "code",
   "execution_count": 26,
   "id": "bc9aec19",
   "metadata": {},
   "outputs": [],
   "source": [
    "def four_vertex(a, b, c, d, e, m, n, r, s):\n",
    "    F1 = sympy.sympify('f_' + a + b + e, globals()) * sympy.sympify('f_' + c + d + e, globals()) * (sympy.sympify('g_' + m + r, globals()) * sympy.sympify('g_' + n + s, globals()) - sympy.sympify('g_' + m + s, globals()) * sympy.sympify('g_' + n + r, globals()))\n",
    "    F2 = sympy.sympify('f_' + a + c + e, globals()) * sympy.sympify('f_' + b + d + e, globals()) * (sympy.sympify('g_' + m + n, globals()) * sympy.sympify('g_' + r + s, globals()) - sympy.sympify('g_' + m + s, globals()) * sympy.sympify('g_' + n + r, globals()))\n",
    "    F3 = sympy.sympify('f_' + a + d + e, globals()) * sympy.sympify('f_' + b + c + e, globals()) * (sympy.sympify('g_' + m + n, globals()) * sympy.sympify('g_' + r + s, globals()) - sympy.sympify('g_' + m + r, globals()) * sympy.sympify('g_' + n + s, globals()))\n",
    "    F = F1 + F2 + F3\n",
    "    return F"
   ]
  },
  {
   "cell_type": "markdown",
   "id": "cfda3513",
   "metadata": {},
   "source": [
    "運動量文字，Lorentz添字，ゲージ群の添字を定義"
   ]
  },
  {
   "cell_type": "code",
   "execution_count": 27,
   "id": "4f572e5e",
   "metadata": {},
   "outputs": [],
   "source": [
    "momentum_chars = ['k', 'p', 'q']\n",
    "Lorentz_indices = ['mu', 'nu', 'rho', 'sigma', 'lambda', 'kappa', 'tau', 'xi', 'eta']\n",
    "gruoup_indices = ['a', 'b', 'c', 'd', 'e', 'f', 'g', 'h']"
   ]
  },
  {
   "cell_type": "markdown",
   "id": "035fe5da",
   "metadata": {},
   "source": [
    "Lorentz添字を1文字目で表す(m=$\\mu$)"
   ]
  },
  {
   "cell_type": "code",
   "execution_count": 28,
   "id": "18f206c4",
   "metadata": {},
   "outputs": [],
   "source": [
    "Lorentz_indices_abr = [s[0] for s in Lorentz_indices]"
   ]
  },
  {
   "cell_type": "markdown",
   "id": "c4f287db",
   "metadata": {},
   "source": [
    "運動量文字のsymbolを定義する"
   ]
  },
  {
   "cell_type": "code",
   "execution_count": 29,
   "id": "b1a55f9f",
   "metadata": {},
   "outputs": [],
   "source": [
    "for i in momentum_chars:\n",
    "    exec(i + ' = sympy.symbols(\\'' + i + '\\')')"
   ]
  },
  {
   "cell_type": "markdown",
   "id": "9e2702b5",
   "metadata": {},
   "source": [
    "計量成分のsymbolを定義する(g\\_mn=$g_{\\mu\\nu}$)．1文字目の添字の順番≤2文字目の添字の順番とする．"
   ]
  },
  {
   "cell_type": "code",
   "execution_count": 30,
   "id": "139d6444",
   "metadata": {},
   "outputs": [],
   "source": [
    "for i in range(len(Lorentz_indices)):\n",
    "    for j in range(i, len(Lorentz_indices)):\n",
    "        exec('g_' + Lorentz_indices_abr[i] + Lorentz_indices_abr[j] + '= sympy.symbols(\\'g_{\\\\\\\\' + Lorentz_indices[i] + '\\\\\\\\' + Lorentz_indices[j] + '}\\')')\n",
    "        exec('g_' + Lorentz_indices_abr[j] + Lorentz_indices_abr[i] + '= sympy.symbols(\\'g_{\\\\\\\\' + Lorentz_indices[i] + '\\\\\\\\' + Lorentz_indices[j] + '}\\')')"
   ]
  },
  {
   "cell_type": "markdown",
   "id": "3ffd56f2",
   "metadata": {},
   "source": [
    "運動量成分のsymbolを定義する(k\\_m=$k_\\mu$)"
   ]
  },
  {
   "cell_type": "code",
   "execution_count": 31,
   "id": "22d518e1",
   "metadata": {},
   "outputs": [],
   "source": [
    "for i in range(len(momentum_chars)):\n",
    "    for j in range(len(Lorentz_indices)):\n",
    "        exec(momentum_chars[i] + '_' + Lorentz_indices_abr[j] + '= sympy.symbols(\\'' + momentum_chars[i] + '_\\\\\\\\' + Lorentz_indices[j] + '\\')')"
   ]
  },
  {
   "cell_type": "markdown",
   "id": "d1f02410",
   "metadata": {},
   "source": [
    "運動量の内積を定義する(kp=$k\\cdot p$)．1文字目の運動量の順番≤2文字目の運動量の順番"
   ]
  },
  {
   "cell_type": "code",
   "execution_count": 32,
   "id": "20d301d7",
   "metadata": {},
   "outputs": [],
   "source": [
    "for i in range(len(momentum_chars)):\n",
    "    for j in range(i, len(momentum_chars)):\n",
    "        exec(momentum_chars[i] + momentum_chars[j] + '= sympy.symbols(\\'(' + momentum_chars[i] + momentum_chars[j] + ')\\')')\n",
    "        exec(momentum_chars[j] + momentum_chars[i] + '= sympy.symbols(\\'(' + momentum_chars[i] + momentum_chars[j] + ')\\')')"
   ]
  },
  {
   "cell_type": "markdown",
   "id": "b978177c",
   "metadata": {},
   "source": [
    "ゲージ群の構造定数を定義する(f\\_abc=$f_{abc}$)"
   ]
  },
  {
   "cell_type": "code",
   "execution_count": 33,
   "id": "662a2034",
   "metadata": {},
   "outputs": [],
   "source": [
    "for a in range(len(gruoup_indices)):\n",
    "    for b in range(len(gruoup_indices)):\n",
    "        for c in range(len(gruoup_indices)):\n",
    "            exec('f_' + gruoup_indices[a] + gruoup_indices[b] + gruoup_indices[c] + '= sympy.symbols(\\'f_' + gruoup_indices[a] + gruoup_indices[b] + gruoup_indices[c] + '\\')')"
   ]
  },
  {
   "cell_type": "markdown",
   "id": "467579d8",
   "metadata": {},
   "source": [
    "頂点の積を計算する．入力はsympyのequation"
   ]
  },
  {
   "cell_type": "code",
   "execution_count": 34,
   "id": "6601051c",
   "metadata": {},
   "outputs": [],
   "source": [
    "def calculate_vertices(eq):\n",
    "    eq = sympy.expand(eq)\n",
    "    terms = list(sympy.Add.make_args(eq))\n",
    "    for i in range(len(terms)):\n",
    "        terms[i] = sympy.simplify(terms[i])\n",
    "    terms_cal = []\n",
    "    for i in range(len(terms)):\n",
    "        term = str(terms[i])\n",
    "        if term[0] == '-':\n",
    "            if term[1].isdigit() == False:\n",
    "                term = term.replace('-', '-1*')\n",
    "        elif term[0].isdigit() == False:\n",
    "            term = '1*' + term\n",
    "        while '**2' in term:\n",
    "            end = term.find('**2')\n",
    "            start = term.rfind('*', 0, end)\n",
    "            term = term[:end+1] + term[start+1:end] + term[end+3:]\n",
    "        term = term.split('*')\n",
    "        if len(term) != len(set(term)):\n",
    "            dups = [j for j in set(term) if term.count(j) > 1]\n",
    "            for j in dups:\n",
    "                term.remove(j)\n",
    "                term.remove(j)\n",
    "                if j[0] in momentum_chars:\n",
    "                    # [..., k_m, k_m, ...] -> [kk..., ...]\n",
    "                    term[0] = term[0] + '*' + j[0] + j[0]\n",
    "                elif j[0] == 'g':\n",
    "                    # [..., g_mn, g_mn, ...] -> [4..., ...]\n",
    "                    term[0] = '4*' + term[0]\n",
    "                else:\n",
    "                    # [..., x, x, ...] -> [x**2..., ...]\n",
    "                    term[0] = term[0] + '*' + j[0] +'*' + j[0]\n",
    "        # Lorentz scalars in coeff\n",
    "        for i in term[1:]:\n",
    "            if i[0] not in momentum_chars and i[0] != 'g':\n",
    "                term.remove(i)\n",
    "                term[0] = term[0] + '*' + i\n",
    "        term_cal = calculate_contract(term)\n",
    "        term_cal = '*'.join(term_cal)\n",
    "        terms_cal.append(term_cal)\n",
    "\n",
    "    eq_cal = 0\n",
    "    for i in terms_cal:\n",
    "        eq_cal += sympy.sympify(i, globals())\n",
    "    eq_cal = sympy.simplify(eq_cal)\n",
    "    return eq_cal"
   ]
  },
  {
   "cell_type": "markdown",
   "metadata": {},
   "source": [
    "以下では，An Introduction to Quantum Field Theory (Peskin & Schroeder)のProblemでの実際の使用例を書く．"
   ]
  },
  {
   "cell_type": "markdown",
   "id": "a5583254",
   "metadata": {},
   "source": [
    "## Problem 16.3\n",
    "3-boson頂点($AAA + AAA + AAA$)"
   ]
  },
  {
   "cell_type": "code",
   "execution_count": 35,
   "id": "9b8faffe",
   "metadata": {},
   "outputs": [
    {
     "name": "stdout",
     "output_type": "stream",
     "text": [
      "2 (kk) g_{\\mu\\nu} k_{\\rho} + 4 (kk) g_{\\mu\\nu} p_{\\rho} + 2 (kk) g_{\\mu\\rho} k_{\\nu} - 3 (kk) g_{\\mu\\rho} p_{\\nu} + 2 (kk) g_{\\nu\\rho} k_{\\mu} - 3 (kk) g_{\\nu\\rho} p_{\\mu} - 8 (kp) g_{\\mu\\nu} p_{\\rho} - 2 (kp) g_{\\mu\\rho} k_{\\nu} + 3 (kp) g_{\\mu\\rho} p_{\\nu} - 2 (kp) g_{\\nu\\rho} k_{\\mu} + 3 (kp) g_{\\nu\\rho} p_{\\mu} + 10 (pp) g_{\\mu\\nu} k_{\\rho} - (pp) g_{\\mu\\rho} k_{\\nu} - (pp) g_{\\nu\\rho} k_{\\mu} + 18 k_{\\mu} k_{\\nu} k_{\\rho} - 9 k_{\\mu} k_{\\rho} p_{\\nu} + 3 k_{\\mu} p_{\\nu} p_{\\rho} - 9 k_{\\nu} k_{\\rho} p_{\\mu} + 3 k_{\\nu} p_{\\mu} p_{\\rho} - 6 k_{\\rho} p_{\\mu} p_{\\nu}\n"
     ]
    }
   ],
   "source": [
    "t1 = g_ms*(2*p_k - k_k) + g_sk*(- p_m + 2*k_m) + g_km*(-k_s - p_s)\n",
    "t2 = g_sn*(2*p_l - k_l) + g_nl*(- p_s - k_s) + g_ls*(2*k_n - p_n)\n",
    "t3 = 2*g_kl*k_r - g_lr*k_k - g_rk*k_l\n",
    "\n",
    "print(sympy.latex(calculate_vertices(t1*t2*t3)))"
   ]
  },
  {
   "cell_type": "markdown",
   "id": "7b42742c",
   "metadata": {},
   "source": [
    "4-boson頂点($AAAA + AAAA$)"
   ]
  },
  {
   "cell_type": "code",
   "execution_count": 36,
   "id": "c9fd615a",
   "metadata": {},
   "outputs": [
    {
     "name": "stdout",
     "output_type": "stream",
     "text": [
      "2 f_{abg} f_{cdh} f_{efg} f_{efh} g_{\\mu\\rho} g_{\\nu\\sigma} - 2 f_{abg} f_{cdh} f_{efg} f_{efh} g_{\\mu\\sigma} g_{\\nu\\rho} + f_{abg} f_{ech} f_{efg} f_{fdh} g_{\\mu\\rho} g_{\\nu\\sigma} - f_{abg} f_{ech} f_{efg} f_{fdh} g_{\\mu\\sigma} g_{\\nu\\rho} - f_{abg} f_{edh} f_{efg} f_{fch} g_{\\mu\\rho} g_{\\nu\\sigma} + f_{abg} f_{edh} f_{efg} f_{fch} g_{\\mu\\sigma} g_{\\nu\\rho} + f_{aeg} f_{bfg} f_{cdh} f_{efh} g_{\\mu\\rho} g_{\\nu\\sigma} - f_{aeg} f_{bfg} f_{cdh} f_{efh} g_{\\mu\\sigma} g_{\\nu\\rho} + 2 f_{aeg} f_{bfg} f_{ech} f_{fdh} g_{\\mu\\nu} g_{\\rho\\sigma} + f_{aeg} f_{bfg} f_{ech} f_{fdh} g_{\\mu\\rho} g_{\\nu\\sigma} + 2 f_{aeg} f_{bfg} f_{edh} f_{fch} g_{\\mu\\nu} g_{\\rho\\sigma} + f_{aeg} f_{bfg} f_{edh} f_{fch} g_{\\mu\\sigma} g_{\\nu\\rho} - f_{afg} f_{beg} f_{cdh} f_{efh} g_{\\mu\\rho} g_{\\nu\\sigma} + f_{afg} f_{beg} f_{cdh} f_{efh} g_{\\mu\\sigma} g_{\\nu\\rho} + 2 f_{afg} f_{beg} f_{ech} f_{fdh} g_{\\mu\\nu} g_{\\rho\\sigma} + f_{afg} f_{beg} f_{ech} f_{fdh} g_{\\mu\\sigma} g_{\\nu\\rho} + 2 f_{afg} f_{beg} f_{edh} f_{fch} g_{\\mu\\nu} g_{\\rho\\sigma} + f_{afg} f_{beg} f_{edh} f_{fch} g_{\\mu\\rho} g_{\\nu\\sigma}\n"
     ]
    }
   ],
   "source": [
    "t1 = four_vertex('a', 'b', 'e', 'f', 'g', 'm', 'n', 'l', 'k')\n",
    "t2 = four_vertex('e', 'f', 'c', 'd', 'h', 'l', 'k', 'r', 's')\n",
    "\n",
    "print(sympy.latex(calculate_vertices(t1*t2)))"
   ]
  },
  {
   "cell_type": "markdown",
   "id": "277a45e4",
   "metadata": {},
   "source": [
    "3, 4-boson頂点($AAAA + AAA + AAA$)"
   ]
  },
  {
   "cell_type": "code",
   "execution_count": 37,
   "id": "ee05c2e9",
   "metadata": {},
   "outputs": [
    {
     "name": "stdout",
     "output_type": "stream",
     "text": [
      "6 f_{cdh} f_{efh} g_{\\mu\\rho} g_{\\nu\\sigma} - 6 f_{cdh} f_{efh} g_{\\mu\\sigma} g_{\\nu\\rho} + 13 f_{ech} f_{fdh} g_{\\mu\\nu} g_{\\rho\\sigma} + 4 f_{ech} f_{fdh} g_{\\mu\\rho} g_{\\nu\\sigma} - 2 f_{ech} f_{fdh} g_{\\mu\\sigma} g_{\\nu\\rho} + 13 f_{edh} f_{fch} g_{\\mu\\nu} g_{\\rho\\sigma} - 2 f_{edh} f_{fch} g_{\\mu\\rho} g_{\\nu\\sigma} + 4 f_{edh} f_{fch} g_{\\mu\\sigma} g_{\\nu\\rho}\n"
     ]
    }
   ],
   "source": [
    "t1 = four_vertex('e', 'f', 'c', 'd', 'h', 'l', 'k', 'r', 's')\n",
    "t2 = three_vertex('m', 'l', 't', 0, -k, k)\n",
    "t3 = three_vertex('n', 't', 'k', 0, -k, k)\n",
    "\"\"\"\n",
    "t2*t3 =\n",
    "(kk) g_{\\mu\\lambda} g_{\\nu\\kappa} + 4 g_{\\kappa\\lambda} k_{\\mu} k_{\\nu} - 2 g_{\\mu\\kappa} k_{\\lambda} k_{\\nu} - g_{\\mu\\lambda} k_{\\kappa} k_{\\nu} + g_{\\mu\\nu} k_{\\kappa} k_{\\lambda} - g_{\\nu\\kappa} k_{\\lambda} k_{\\mu} - 2 g_{\\nu\\lambda} k_{\\kappa} k_{\\mu}\n",
    "\"\"\"\n",
    "t23 = 5*g_mn*g_lk + 2*g_ml*g_nk - 4*g_mk*g_nl\n",
    "\n",
    "print(sympy.latex(calculate_vertices(t1*t23)))"
   ]
  },
  {
   "cell_type": "markdown",
   "id": "db729d9a",
   "metadata": {},
   "source": [
    "3, 4-boson頂点($AAA + AAA + AAA + AAAA$)"
   ]
  },
  {
   "cell_type": "code",
   "execution_count": 38,
   "id": "021dd35c",
   "metadata": {},
   "outputs": [
    {
     "name": "stdout",
     "output_type": "stream",
     "text": [
      "(kk)^{2} g_{\\mu\\nu} g_{\\rho\\sigma} + (kk)^{2} g_{\\mu\\rho} g_{\\nu\\sigma} + 3 (kk) g_{\\mu\\nu} k_{\\rho} k_{\\sigma} + 3 (kk) g_{\\mu\\rho} k_{\\nu} k_{\\sigma} + 3 (kk) g_{\\nu\\sigma} k_{\\mu} k_{\\rho} + 3 (kk) g_{\\rho\\sigma} k_{\\mu} k_{\\nu} + 34 k_{\\mu} k_{\\nu} k_{\\rho} k_{\\sigma}\n"
     ]
    }
   ],
   "source": [
    "t1 = three_vertex('m', 'l', 'e', 0, -k, k)\n",
    "t2 = three_vertex('l', 'r', 'k', k, 0, -k)\n",
    "t3 = three_vertex('x', 'k', 's', -k, k, 0)\n",
    "t4 = three_vertex('n', 'e', 'x', 0, -k, k)\n",
    "\n",
    "print(sympy.latex(calculate_vertices(t1*t2*t3*t4)))"
   ]
  },
  {
   "cell_type": "markdown",
   "id": "bee8ee39",
   "metadata": {},
   "source": [
    "## Problem 18.3\n",
    "\n",
    "3-boson頂点($AAA + AAA + \\mathcal{O}_g$)"
   ]
  },
  {
   "cell_type": "code",
   "execution_count": 39,
   "id": "a6947890",
   "metadata": {},
   "outputs": [
    {
     "name": "stdout",
     "output_type": "stream",
     "text": [
      "2 (kk) g_{\\rho\\sigma} - 2 (kp) g_{\\rho\\sigma} + 5 (pp) g_{\\rho\\sigma} + 10 k_{\\rho} k_{\\sigma} - 5 k_{\\rho} p_{\\sigma} - 5 k_{\\sigma} p_{\\rho} - 2 p_{\\rho} p_{\\sigma}\n"
     ]
    }
   ],
   "source": [
    "t1 = three_vertex('n', 'r', 'l', -k, p, k-p)\n",
    "t2 = three_vertex('n', 'l', 's', k, p-k, -p)\n",
    "\n",
    "print(sympy.latex(calculate_vertices(t1*t2)))"
   ]
  },
  {
   "cell_type": "code",
   "execution_count": 40,
   "id": "38380aba",
   "metadata": {},
   "outputs": [],
   "source": [
    "t1 = three_vertex('x', 'r', 'l', -k, p, k-p)\n",
    "t2 = three_vertex('t', 'l', 's', k, p-k, -p)\n",
    "\n",
    "t12 = calculate_vertices(t1*t2)"
   ]
  },
  {
   "cell_type": "code",
   "execution_count": 41,
   "id": "41ed0cd2",
   "metadata": {},
   "outputs": [],
   "source": [
    "t3 = three_vertex('t', 'r', 'l', -k, p, k-p)\n",
    "t4 = three_vertex('x', 'l', 's', k, p-k, -p)\n",
    "\n",
    "t34 = calculate_vertices(t3*t4)"
   ]
  },
  {
   "cell_type": "code",
   "execution_count": 42,
   "id": "70efb2ed",
   "metadata": {},
   "outputs": [
    {
     "name": "stdout",
     "output_type": "stream",
     "text": [
      "(kk) g_{\\rho\\tau} g_{\\sigma\\xi} + (kk) g_{\\rho\\xi} g_{\\sigma\\tau} + 2 (kp) g_{\\rho\\tau} g_{\\sigma\\xi} + 2 (kp) g_{\\rho\\xi} g_{\\sigma\\tau} + (pp) g_{\\rho\\tau} g_{\\sigma\\xi} + (pp) g_{\\rho\\xi} g_{\\sigma\\tau} + 2 g_{\\rho\\sigma} k_{\\tau} k_{\\xi} - 4 g_{\\rho\\sigma} k_{\\tau} p_{\\xi} - 4 g_{\\rho\\sigma} k_{\\xi} p_{\\tau} + 8 g_{\\rho\\sigma} p_{\\tau} p_{\\xi} - 3 g_{\\rho\\tau} k_{\\sigma} k_{\\xi} + 3 g_{\\rho\\tau} k_{\\xi} p_{\\sigma} - 3 g_{\\rho\\tau} p_{\\sigma} p_{\\xi} - 3 g_{\\rho\\xi} k_{\\sigma} k_{\\tau} + 3 g_{\\rho\\xi} k_{\\tau} p_{\\sigma} - 3 g_{\\rho\\xi} p_{\\sigma} p_{\\tau} - 3 g_{\\sigma\\tau} k_{\\rho} k_{\\xi} + 3 g_{\\sigma\\tau} k_{\\xi} p_{\\rho} - 3 g_{\\sigma\\tau} p_{\\rho} p_{\\xi} - 3 g_{\\sigma\\xi} k_{\\rho} k_{\\tau} + 3 g_{\\sigma\\xi} k_{\\tau} p_{\\rho} - 3 g_{\\sigma\\xi} p_{\\rho} p_{\\tau} + 8 g_{\\tau\\xi} k_{\\rho} k_{\\sigma} - 4 g_{\\tau\\xi} k_{\\rho} p_{\\sigma} - 4 g_{\\tau\\xi} k_{\\sigma} p_{\\rho} + 2 g_{\\tau\\xi} p_{\\rho} p_{\\sigma}\n"
     ]
    }
   ],
   "source": [
    "print(sympy.latex(sympy.simplify(t12 + t34)))"
   ]
  }
 ],
 "metadata": {
  "kernelspec": {
   "display_name": "Python 3 (ipykernel)",
   "language": "python",
   "name": "python3"
  },
  "language_info": {
   "codemirror_mode": {
    "name": "ipython",
    "version": 3
   },
   "file_extension": ".py",
   "mimetype": "text/x-python",
   "name": "python",
   "nbconvert_exporter": "python",
   "pygments_lexer": "ipython3",
   "version": "3.9.12"
  },
  "vscode": {
   "interpreter": {
    "hash": "221ae5615a8e0efda4895511f27f63a1e63affe3148eb5adbd5d40f58f9713cb"
   }
  }
 },
 "nbformat": 4,
 "nbformat_minor": 5
}
